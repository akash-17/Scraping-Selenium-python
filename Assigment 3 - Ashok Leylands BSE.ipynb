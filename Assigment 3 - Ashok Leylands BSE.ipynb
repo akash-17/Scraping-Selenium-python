{
 "cells": [
  {
   "cell_type": "markdown",
   "metadata": {
    "ExecuteTime": {
     "end_time": "2021-05-14T10:48:27.568687Z",
     "start_time": "2021-05-14T10:48:27.384738Z"
    }
   },
   "source": [
    "# Problem statement"
   ]
  },
  {
   "cell_type": "raw",
   "metadata": {},
   "source": [
    "Go to URL: https://www.bseindia.com/stock-share-price/ashok-leyland-ltd/ashokley/500477/corp-announements/\n",
    "        \n",
    "        \n",
    "Step1: Give the parameters as shown using selenium or without using selenium\n",
    "Step2: After passing the parameters click submit\n",
    "Step3: Download the PDF using the pdf button.\n",
    "Step4: After Downloading, read the 2 tables in PDF using python in ipynb format.\n"
   ]
  },
  {
   "cell_type": "markdown",
   "metadata": {},
   "source": [
    "# Importing the libraries"
   ]
  },
  {
   "cell_type": "code",
   "execution_count": 1,
   "metadata": {
    "ExecuteTime": {
     "end_time": "2021-05-14T11:38:03.374306Z",
     "start_time": "2021-05-14T11:38:02.351757Z"
    }
   },
   "outputs": [],
   "source": [
    "from selenium import webdriver\n",
    "from webdriver_manager.chrome import ChromeDriverManager\n",
    "import tabula\n",
    "from selenium.webdriver.chrome.options import Options\n",
    "from selenium.webdriver.support.ui import Select\n",
    "from selenium.webdriver.common.keys import Keys \n",
    "import os\n",
    "import shutil\n",
    "import time"
   ]
  },
  {
   "cell_type": "markdown",
   "metadata": {},
   "source": [
    "# Setting chrome options to download pdf without clicking"
   ]
  },
  {
   "cell_type": "code",
   "execution_count": 2,
   "metadata": {
    "ExecuteTime": {
     "end_time": "2021-05-14T11:38:04.510326Z",
     "start_time": "2021-05-14T11:38:03.375342Z"
    }
   },
   "outputs": [],
   "source": [
    "chrome_options = Options()\n",
    "chrome_options.add_experimental_option('prefs',  {\n",
    "    \"download.default_directory\": 'C:\\\\Users\\\\akash\\\\Downloads',\n",
    "    \"download.prompt_for_download\": False,\n",
    "    \"download.directory_upgrade\": True,\n",
    "    \"plugins.always_open_pdf_externally\": True\n",
    "    }\n",
    ")\n",
    "\n",
    "driver = webdriver.Chrome(options=chrome_options)"
   ]
  },
  {
   "cell_type": "markdown",
   "metadata": {},
   "source": [
    "# Navigating the URL"
   ]
  },
  {
   "cell_type": "code",
   "execution_count": 3,
   "metadata": {
    "ExecuteTime": {
     "end_time": "2021-05-14T11:38:06.067964Z",
     "start_time": "2021-05-14T11:38:04.513319Z"
    }
   },
   "outputs": [],
   "source": [
    "driver.get(\"https://www.bseindia.com/stock-share-price/ashok-leyland-ltd/ashokley/500477/corp-announements/\")"
   ]
  },
  {
   "cell_type": "markdown",
   "metadata": {},
   "source": [
    "## Changing the Segment to Equity"
   ]
  },
  {
   "cell_type": "code",
   "execution_count": 4,
   "metadata": {
    "ExecuteTime": {
     "end_time": "2021-05-14T11:38:06.130795Z",
     "start_time": "2021-05-14T11:38:06.069959Z"
    }
   },
   "outputs": [],
   "source": [
    "select = Select(driver.find_element_by_id('ddlAnnType'))\n",
    "select.select_by_visible_text('Equity')"
   ]
  },
  {
   "cell_type": "markdown",
   "metadata": {},
   "source": [
    "## Changing the Category type to Company Update"
   ]
  },
  {
   "cell_type": "code",
   "execution_count": 5,
   "metadata": {
    "ExecuteTime": {
     "end_time": "2021-05-14T11:38:06.207590Z",
     "start_time": "2021-05-14T11:38:06.132791Z"
    }
   },
   "outputs": [],
   "source": [
    "select = Select(driver.find_element_by_id('ddlPeriod'))\n",
    "select.select_by_visible_text('Company Update')"
   ]
  },
  {
   "cell_type": "markdown",
   "metadata": {},
   "source": [
    "## Changing the date values for From Date"
   ]
  },
  {
   "cell_type": "markdown",
   "metadata": {},
   "source": [
    "##### We will first remove the auto filled date values for From Date field"
   ]
  },
  {
   "cell_type": "code",
   "execution_count": 6,
   "metadata": {
    "ExecuteTime": {
     "end_time": "2021-05-14T11:38:06.427003Z",
     "start_time": "2021-05-14T11:38:06.209585Z"
    }
   },
   "outputs": [],
   "source": [
    "fromDate = driver.find_element_by_id('txtFromDt')\n",
    "fromDate.click()\n",
    "fromDate.send_keys(Keys.CONTROL, \"a\") \n",
    "fromDate.send_keys(Keys.BACKSPACE)    "
   ]
  },
  {
   "cell_type": "markdown",
   "metadata": {},
   "source": [
    "##### Changing the month value"
   ]
  },
  {
   "cell_type": "code",
   "execution_count": 7,
   "metadata": {
    "ExecuteTime": {
     "end_time": "2021-05-14T11:38:10.534334Z",
     "start_time": "2021-05-14T11:38:06.428001Z"
    }
   },
   "outputs": [],
   "source": [
    "clk = driver.find_element_by_xpath(\"//*[@id='txtFromDt']\")\n",
    "time.sleep(2)\n",
    "        \n",
    "fromMonth = driver.find_element_by_xpath(\"//*[@id='ui-datepicker-div']/div/div/select[1]\")\n",
    "selectedFromMonth = Select(fromMonth)\n",
    "selectedFromMonth.select_by_visible_text(\"Jan\")\n",
    "time.sleep(2)\n"
   ]
  },
  {
   "cell_type": "markdown",
   "metadata": {},
   "source": [
    "##### Changing the year value"
   ]
  },
  {
   "cell_type": "code",
   "execution_count": 8,
   "metadata": {
    "ExecuteTime": {
     "end_time": "2021-05-14T11:38:12.597695Z",
     "start_time": "2021-05-14T11:38:10.534334Z"
    }
   },
   "outputs": [],
   "source": [
    "fromYear = driver.find_element_by_xpath(\"//*[@id='ui-datepicker-div']/div/div/select[2]\")\n",
    "selectedFromYear = Select(fromYear)\n",
    "selectedFromYear.select_by_visible_text(\"2021\")\n",
    "time.sleep(2)"
   ]
  },
  {
   "cell_type": "markdown",
   "metadata": {},
   "source": [
    "##### Changing the Day value"
   ]
  },
  {
   "cell_type": "code",
   "execution_count": 9,
   "metadata": {
    "ExecuteTime": {
     "end_time": "2021-05-14T11:38:12.676308Z",
     "start_time": "2021-05-14T11:38:12.601001Z"
    }
   },
   "outputs": [],
   "source": [
    "fromDay = driver.find_element_by_xpath(\"//*[@id='ui-datepicker-div']/table/tbody/tr[1]/td[6]/a\")\n",
    "fromDay.send_keys(\"1\")\n",
    "fromDay.click()"
   ]
  },
  {
   "cell_type": "markdown",
   "metadata": {},
   "source": [
    "## Changing the date values for To Date"
   ]
  },
  {
   "cell_type": "markdown",
   "metadata": {},
   "source": [
    "##### We will first remove the auto filled date values for To Date field"
   ]
  },
  {
   "cell_type": "code",
   "execution_count": 10,
   "metadata": {
    "ExecuteTime": {
     "end_time": "2021-05-14T11:38:12.784319Z",
     "start_time": "2021-05-14T11:38:12.678311Z"
    }
   },
   "outputs": [],
   "source": [
    "toDate = driver.find_element_by_id('txtToDt')\n",
    "toDate.click()\n",
    "toDate.send_keys(Keys.CONTROL, \"a\")\n",
    "toDate.send_keys(Keys.BACKSPACE)    "
   ]
  },
  {
   "cell_type": "markdown",
   "metadata": {},
   "source": [
    "##### Changing the month value"
   ]
  },
  {
   "cell_type": "code",
   "execution_count": 11,
   "metadata": {
    "ExecuteTime": {
     "end_time": "2021-05-14T11:38:16.878255Z",
     "start_time": "2021-05-14T11:38:12.785283Z"
    }
   },
   "outputs": [],
   "source": [
    "clk_to = driver.find_element_by_xpath(\"//*[@id='txtToDt']\")\n",
    "time.sleep(2)\n",
    "        \n",
    "toMonth = driver.find_element_by_xpath(\"//*[@id='ui-datepicker-div']/div/div/select[1]\")\n",
    "selectedFromMonth = Select(toMonth)\n",
    "selectedFromMonth.select_by_visible_text(\"Jan\")\n",
    "time.sleep(2)"
   ]
  },
  {
   "cell_type": "markdown",
   "metadata": {},
   "source": [
    "##### Changing the year value"
   ]
  },
  {
   "cell_type": "code",
   "execution_count": 12,
   "metadata": {
    "ExecuteTime": {
     "end_time": "2021-05-14T11:38:18.932031Z",
     "start_time": "2021-05-14T11:38:16.880252Z"
    }
   },
   "outputs": [],
   "source": [
    "toYear = driver.find_element_by_xpath(\"//*[@id='ui-datepicker-div']/div/div/select[2]\")\n",
    "selectedFromYear = Select(toYear)\n",
    "selectedFromYear.select_by_visible_text(\"2021\")\n",
    "time.sleep(2)"
   ]
  },
  {
   "cell_type": "markdown",
   "metadata": {
    "ExecuteTime": {
     "end_time": "2021-05-14T11:30:03.466435Z",
     "start_time": "2021-05-14T11:30:03.456447Z"
    }
   },
   "source": [
    "##### Changing the date value"
   ]
  },
  {
   "cell_type": "code",
   "execution_count": 13,
   "metadata": {
    "ExecuteTime": {
     "end_time": "2021-05-14T11:38:19.011028Z",
     "start_time": "2021-05-14T11:38:18.932031Z"
    }
   },
   "outputs": [],
   "source": [
    "toDay = driver.find_element_by_xpath(\"//*[@id='ui-datepicker-div']/table/tbody/tr[1]/td[6]/a\")\n",
    "toDay.send_keys(\"1\")\n",
    "toDay.click()"
   ]
  },
  {
   "cell_type": "markdown",
   "metadata": {},
   "source": [
    "# Click on Submit button "
   ]
  },
  {
   "cell_type": "code",
   "execution_count": 14,
   "metadata": {
    "ExecuteTime": {
     "end_time": "2021-05-14T11:38:19.074146Z",
     "start_time": "2021-05-14T11:38:19.013022Z"
    }
   },
   "outputs": [],
   "source": [
    "submit_button = driver.find_element_by_xpath(\"//*[@id='btnSubmit']\")\n",
    "submit_button.click()"
   ]
  },
  {
   "cell_type": "markdown",
   "metadata": {},
   "source": [
    "##### We have added sleep time to get the pdf generated and then we will click on the pdf link using xpath"
   ]
  },
  {
   "cell_type": "code",
   "execution_count": 15,
   "metadata": {
    "ExecuteTime": {
     "end_time": "2021-05-14T11:38:20.145943Z",
     "start_time": "2021-05-14T11:38:19.075883Z"
    }
   },
   "outputs": [],
   "source": [
    "time.sleep(1)\n",
    "pdf = driver.find_element_by_xpath(\"//*[@id='lblann']/table/tbody/tr[4]/td/table/tbody/tr[1]/td[3]/a/i\").click()"
   ]
  },
  {
   "cell_type": "markdown",
   "metadata": {},
   "source": [
    "##### Adding 5 seconds of sleep time to let the pdf download and then renaming the pdf to Ashok_Leylands using shutil library of python once it is downloaded"
   ]
  },
  {
   "cell_type": "code",
   "execution_count": 16,
   "metadata": {
    "ExecuteTime": {
     "end_time": "2021-05-14T11:38:25.195350Z",
     "start_time": "2021-05-14T11:38:20.147939Z"
    }
   },
   "outputs": [
    {
     "data": {
      "text/plain": [
       "'C:\\\\Users\\\\91982\\\\Downloads\\\\Ashok_Leylands.pdf'"
      ]
     },
     "execution_count": 16,
     "metadata": {},
     "output_type": "execute_result"
    }
   ],
   "source": [
    "time.sleep(5)\n",
    "filename = max(['C:\\\\Users\\\\91982\\\\Downloads' + \"\\\\\" + f for f in os.listdir('C:\\\\Users\\\\akash\\\\Downloads')],key=os.path.getctime)\n",
    "shutil.move(filename,os.path.join('C:\\\\Users\\\\akash\\\\Downloads',r\"Ashok_Leylands.pdf\"))"
   ]
  },
  {
   "cell_type": "markdown",
   "metadata": {
    "ExecuteTime": {
     "end_time": "2021-05-14T10:48:52.203721Z",
     "start_time": "2021-05-14T10:48:52.187733Z"
    }
   },
   "source": [
    "# Using tabula package of python to read pdf and tables  "
   ]
  },
  {
   "cell_type": "markdown",
   "metadata": {},
   "source": [
    "##### We have 2 pages in our pdf and we need to read the both tables from our pdf so we will give multiple tables option as True, pdf name, number of pages as 2 and give header as row 1"
   ]
  },
  {
   "cell_type": "code",
   "execution_count": 17,
   "metadata": {
    "ExecuteTime": {
     "end_time": "2021-05-14T11:38:26.722291Z",
     "start_time": "2021-05-14T11:38:25.196347Z"
    }
   },
   "outputs": [],
   "source": [
    "table = tabula.read_pdf(\"Ashok_Leylands.pdf\",pages=2,multiple_tables=True,pandas_options={'header': 1})"
   ]
  },
  {
   "cell_type": "markdown",
   "metadata": {},
   "source": [
    "### Printing the first table 1"
   ]
  },
  {
   "cell_type": "code",
   "execution_count": 18,
   "metadata": {
    "ExecuteTime": {
     "end_time": "2021-05-14T11:38:26.752269Z",
     "start_time": "2021-05-14T11:38:26.722291Z"
    }
   },
   "outputs": [
    {
     "data": {
      "text/html": [
       "<div>\n",
       "<style scoped>\n",
       "    .dataframe tbody tr th:only-of-type {\n",
       "        vertical-align: middle;\n",
       "    }\n",
       "\n",
       "    .dataframe tbody tr th {\n",
       "        vertical-align: top;\n",
       "    }\n",
       "\n",
       "    .dataframe thead th {\n",
       "        text-align: right;\n",
       "    }\n",
       "</style>\n",
       "<table border=\"1\" class=\"dataframe\">\n",
       "  <thead>\n",
       "    <tr style=\"text-align: right;\">\n",
       "      <th></th>\n",
       "      <th>CATEGORY</th>\n",
       "      <th>Dec'20</th>\n",
       "      <th>Dec'19 Inc / (Dec)</th>\n",
       "      <th>Dec'20.1</th>\n",
       "      <th>Dec'19 Inc / (Dec).1</th>\n",
       "    </tr>\n",
       "  </thead>\n",
       "  <tbody>\n",
       "    <tr>\n",
       "      <th>0</th>\n",
       "      <td>NaN</td>\n",
       "      <td>NaN</td>\n",
       "      <td>For the month</td>\n",
       "      <td>NaN</td>\n",
       "      <td>Cumulative</td>\n",
       "    </tr>\n",
       "    <tr>\n",
       "      <th>1</th>\n",
       "      <td>NaN</td>\n",
       "      <td>NaN</td>\n",
       "      <td>NaN</td>\n",
       "      <td>NaN</td>\n",
       "      <td>NaN</td>\n",
       "    </tr>\n",
       "    <tr>\n",
       "      <th>2</th>\n",
       "      <td>M&amp;HCV Trucks</td>\n",
       "      <td>5930.0</td>\n",
       "      <td>3809 56%</td>\n",
       "      <td>21349.0</td>\n",
       "      <td>42824 (50%)</td>\n",
       "    </tr>\n",
       "    <tr>\n",
       "      <th>3</th>\n",
       "      <td>M&amp;HCV Bus</td>\n",
       "      <td>245.0</td>\n",
       "      <td>2560 (90%)</td>\n",
       "      <td>842.0</td>\n",
       "      <td>13405 (94%)</td>\n",
       "    </tr>\n",
       "    <tr>\n",
       "      <th>4</th>\n",
       "      <td>Total M&amp;HCV</td>\n",
       "      <td>6175.0</td>\n",
       "      <td>6369 (3%)</td>\n",
       "      <td>22191.0</td>\n",
       "      <td>56229 (61%)</td>\n",
       "    </tr>\n",
       "    <tr>\n",
       "      <th>5</th>\n",
       "      <td>NaN</td>\n",
       "      <td>NaN</td>\n",
       "      <td>NaN</td>\n",
       "      <td>NaN</td>\n",
       "      <td>NaN</td>\n",
       "    </tr>\n",
       "    <tr>\n",
       "      <th>6</th>\n",
       "      <td>LCV</td>\n",
       "      <td>5682.0</td>\n",
       "      <td>4009 42%</td>\n",
       "      <td>29629.0</td>\n",
       "      <td>36855 (20%)</td>\n",
       "    </tr>\n",
       "    <tr>\n",
       "      <th>7</th>\n",
       "      <td>Total Vehicles</td>\n",
       "      <td>11857.0</td>\n",
       "      <td>10378 14%</td>\n",
       "      <td>51820.0</td>\n",
       "      <td>93084 (44%)</td>\n",
       "    </tr>\n",
       "  </tbody>\n",
       "</table>\n",
       "</div>"
      ],
      "text/plain": [
       "         CATEGORY   Dec'20 Dec'19 Inc / (Dec)  Dec'20.1 Dec'19 Inc / (Dec).1\n",
       "0             NaN      NaN      For the month       NaN           Cumulative\n",
       "1             NaN      NaN                NaN       NaN                  NaN\n",
       "2    M&HCV Trucks   5930.0           3809 56%   21349.0          42824 (50%)\n",
       "3       M&HCV Bus    245.0         2560 (90%)     842.0          13405 (94%)\n",
       "4     Total M&HCV   6175.0          6369 (3%)   22191.0          56229 (61%)\n",
       "5             NaN      NaN                NaN       NaN                  NaN\n",
       "6             LCV   5682.0           4009 42%   29629.0          36855 (20%)\n",
       "7  Total Vehicles  11857.0          10378 14%   51820.0          93084 (44%)"
      ]
     },
     "execution_count": 18,
     "metadata": {},
     "output_type": "execute_result"
    }
   ],
   "source": [
    "table[0]"
   ]
  },
  {
   "cell_type": "markdown",
   "metadata": {},
   "source": [
    "### Printing the first table 2"
   ]
  },
  {
   "cell_type": "code",
   "execution_count": 19,
   "metadata": {
    "ExecuteTime": {
     "end_time": "2021-05-14T11:38:26.768229Z",
     "start_time": "2021-05-14T11:38:26.754264Z"
    }
   },
   "outputs": [
    {
     "data": {
      "text/html": [
       "<div>\n",
       "<style scoped>\n",
       "    .dataframe tbody tr th:only-of-type {\n",
       "        vertical-align: middle;\n",
       "    }\n",
       "\n",
       "    .dataframe tbody tr th {\n",
       "        vertical-align: top;\n",
       "    }\n",
       "\n",
       "    .dataframe thead th {\n",
       "        text-align: right;\n",
       "    }\n",
       "</style>\n",
       "<table border=\"1\" class=\"dataframe\">\n",
       "  <thead>\n",
       "    <tr style=\"text-align: right;\">\n",
       "      <th></th>\n",
       "      <th>CATEGORY</th>\n",
       "      <th>Dec'20</th>\n",
       "      <th>Dec'19 Inc / (Dec)</th>\n",
       "      <th>Dec'20.1</th>\n",
       "      <th>Dec'19 Inc / (Dec).1</th>\n",
       "    </tr>\n",
       "  </thead>\n",
       "  <tbody>\n",
       "    <tr>\n",
       "      <th>0</th>\n",
       "      <td>NaN</td>\n",
       "      <td>NaN</td>\n",
       "      <td>For the month</td>\n",
       "      <td>NaN</td>\n",
       "      <td>Cumulative</td>\n",
       "    </tr>\n",
       "    <tr>\n",
       "      <th>1</th>\n",
       "      <td>NaN</td>\n",
       "      <td>NaN</td>\n",
       "      <td>NaN</td>\n",
       "      <td>NaN</td>\n",
       "      <td>NaN</td>\n",
       "    </tr>\n",
       "    <tr>\n",
       "      <th>2</th>\n",
       "      <td>M&amp;HCV Trucks</td>\n",
       "      <td>6235.0</td>\n",
       "      <td>3958 58%</td>\n",
       "      <td>22690.0</td>\n",
       "      <td>44386 (49%)</td>\n",
       "    </tr>\n",
       "    <tr>\n",
       "      <th>3</th>\n",
       "      <td>M&amp;HCV Bus</td>\n",
       "      <td>649.0</td>\n",
       "      <td>3067 (79%)</td>\n",
       "      <td>2842.0</td>\n",
       "      <td>17268 (84%)</td>\n",
       "    </tr>\n",
       "    <tr>\n",
       "      <th>4</th>\n",
       "      <td>Total M&amp;HCV</td>\n",
       "      <td>6884.0</td>\n",
       "      <td>7025 (2%)</td>\n",
       "      <td>25532.0</td>\n",
       "      <td>61654 (59%)</td>\n",
       "    </tr>\n",
       "    <tr>\n",
       "      <th>5</th>\n",
       "      <td>NaN</td>\n",
       "      <td>NaN</td>\n",
       "      <td>NaN</td>\n",
       "      <td>NaN</td>\n",
       "      <td>NaN</td>\n",
       "    </tr>\n",
       "    <tr>\n",
       "      <th>6</th>\n",
       "      <td>LCV</td>\n",
       "      <td>5878.0</td>\n",
       "      <td>4143 42%</td>\n",
       "      <td>31125.0</td>\n",
       "      <td>38095 (18%)</td>\n",
       "    </tr>\n",
       "    <tr>\n",
       "      <th>7</th>\n",
       "      <td>Total Vehicles</td>\n",
       "      <td>12762.0</td>\n",
       "      <td>11168 14%</td>\n",
       "      <td>56657.0</td>\n",
       "      <td>99749 (43%)</td>\n",
       "    </tr>\n",
       "  </tbody>\n",
       "</table>\n",
       "</div>"
      ],
      "text/plain": [
       "         CATEGORY   Dec'20 Dec'19 Inc / (Dec)  Dec'20.1 Dec'19 Inc / (Dec).1\n",
       "0             NaN      NaN      For the month       NaN           Cumulative\n",
       "1             NaN      NaN                NaN       NaN                  NaN\n",
       "2    M&HCV Trucks   6235.0           3958 58%   22690.0          44386 (49%)\n",
       "3       M&HCV Bus    649.0         3067 (79%)    2842.0          17268 (84%)\n",
       "4     Total M&HCV   6884.0          7025 (2%)   25532.0          61654 (59%)\n",
       "5             NaN      NaN                NaN       NaN                  NaN\n",
       "6             LCV   5878.0           4143 42%   31125.0          38095 (18%)\n",
       "7  Total Vehicles  12762.0          11168 14%   56657.0          99749 (43%)"
      ]
     },
     "execution_count": 19,
     "metadata": {},
     "output_type": "execute_result"
    }
   ],
   "source": [
    "table[1]"
   ]
  },
  {
   "cell_type": "markdown",
   "metadata": {},
   "source": [
    "##### Dropping the NA values from the dataframe "
   ]
  },
  {
   "cell_type": "markdown",
   "metadata": {},
   "source": [
    "# Final Output"
   ]
  },
  {
   "cell_type": "code",
   "execution_count": 20,
   "metadata": {
    "ExecuteTime": {
     "end_time": "2021-05-14T11:38:26.799249Z",
     "start_time": "2021-05-14T11:38:26.770222Z"
    }
   },
   "outputs": [
    {
     "data": {
      "text/html": [
       "<div>\n",
       "<style scoped>\n",
       "    .dataframe tbody tr th:only-of-type {\n",
       "        vertical-align: middle;\n",
       "    }\n",
       "\n",
       "    .dataframe tbody tr th {\n",
       "        vertical-align: top;\n",
       "    }\n",
       "\n",
       "    .dataframe thead th {\n",
       "        text-align: right;\n",
       "    }\n",
       "</style>\n",
       "<table border=\"1\" class=\"dataframe\">\n",
       "  <thead>\n",
       "    <tr style=\"text-align: right;\">\n",
       "      <th></th>\n",
       "      <th>CATEGORY</th>\n",
       "      <th>Dec'20</th>\n",
       "      <th>Dec'19 Inc / (Dec)</th>\n",
       "      <th>Dec'20.1</th>\n",
       "      <th>Dec'19 Inc / (Dec).1</th>\n",
       "    </tr>\n",
       "  </thead>\n",
       "  <tbody>\n",
       "    <tr>\n",
       "      <th>2</th>\n",
       "      <td>M&amp;HCV Trucks</td>\n",
       "      <td>5930.0</td>\n",
       "      <td>3809 56%</td>\n",
       "      <td>21349.0</td>\n",
       "      <td>42824 (50%)</td>\n",
       "    </tr>\n",
       "    <tr>\n",
       "      <th>3</th>\n",
       "      <td>M&amp;HCV Bus</td>\n",
       "      <td>245.0</td>\n",
       "      <td>2560 (90%)</td>\n",
       "      <td>842.0</td>\n",
       "      <td>13405 (94%)</td>\n",
       "    </tr>\n",
       "    <tr>\n",
       "      <th>4</th>\n",
       "      <td>Total M&amp;HCV</td>\n",
       "      <td>6175.0</td>\n",
       "      <td>6369 (3%)</td>\n",
       "      <td>22191.0</td>\n",
       "      <td>56229 (61%)</td>\n",
       "    </tr>\n",
       "    <tr>\n",
       "      <th>6</th>\n",
       "      <td>LCV</td>\n",
       "      <td>5682.0</td>\n",
       "      <td>4009 42%</td>\n",
       "      <td>29629.0</td>\n",
       "      <td>36855 (20%)</td>\n",
       "    </tr>\n",
       "    <tr>\n",
       "      <th>7</th>\n",
       "      <td>Total Vehicles</td>\n",
       "      <td>11857.0</td>\n",
       "      <td>10378 14%</td>\n",
       "      <td>51820.0</td>\n",
       "      <td>93084 (44%)</td>\n",
       "    </tr>\n",
       "  </tbody>\n",
       "</table>\n",
       "</div>"
      ],
      "text/plain": [
       "         CATEGORY   Dec'20 Dec'19 Inc / (Dec)  Dec'20.1 Dec'19 Inc / (Dec).1\n",
       "2    M&HCV Trucks   5930.0           3809 56%   21349.0          42824 (50%)\n",
       "3       M&HCV Bus    245.0         2560 (90%)     842.0          13405 (94%)\n",
       "4     Total M&HCV   6175.0          6369 (3%)   22191.0          56229 (61%)\n",
       "6             LCV   5682.0           4009 42%   29629.0          36855 (20%)\n",
       "7  Total Vehicles  11857.0          10378 14%   51820.0          93084 (44%)"
      ]
     },
     "execution_count": 20,
     "metadata": {},
     "output_type": "execute_result"
    }
   ],
   "source": [
    "table[0].dropna()"
   ]
  },
  {
   "cell_type": "code",
   "execution_count": 21,
   "metadata": {
    "ExecuteTime": {
     "end_time": "2021-05-14T11:38:26.815186Z",
     "start_time": "2021-05-14T11:38:26.801198Z"
    }
   },
   "outputs": [
    {
     "data": {
      "text/html": [
       "<div>\n",
       "<style scoped>\n",
       "    .dataframe tbody tr th:only-of-type {\n",
       "        vertical-align: middle;\n",
       "    }\n",
       "\n",
       "    .dataframe tbody tr th {\n",
       "        vertical-align: top;\n",
       "    }\n",
       "\n",
       "    .dataframe thead th {\n",
       "        text-align: right;\n",
       "    }\n",
       "</style>\n",
       "<table border=\"1\" class=\"dataframe\">\n",
       "  <thead>\n",
       "    <tr style=\"text-align: right;\">\n",
       "      <th></th>\n",
       "      <th>CATEGORY</th>\n",
       "      <th>Dec'20</th>\n",
       "      <th>Dec'19 Inc / (Dec)</th>\n",
       "      <th>Dec'20.1</th>\n",
       "      <th>Dec'19 Inc / (Dec).1</th>\n",
       "    </tr>\n",
       "  </thead>\n",
       "  <tbody>\n",
       "    <tr>\n",
       "      <th>2</th>\n",
       "      <td>M&amp;HCV Trucks</td>\n",
       "      <td>6235.0</td>\n",
       "      <td>3958 58%</td>\n",
       "      <td>22690.0</td>\n",
       "      <td>44386 (49%)</td>\n",
       "    </tr>\n",
       "    <tr>\n",
       "      <th>3</th>\n",
       "      <td>M&amp;HCV Bus</td>\n",
       "      <td>649.0</td>\n",
       "      <td>3067 (79%)</td>\n",
       "      <td>2842.0</td>\n",
       "      <td>17268 (84%)</td>\n",
       "    </tr>\n",
       "    <tr>\n",
       "      <th>4</th>\n",
       "      <td>Total M&amp;HCV</td>\n",
       "      <td>6884.0</td>\n",
       "      <td>7025 (2%)</td>\n",
       "      <td>25532.0</td>\n",
       "      <td>61654 (59%)</td>\n",
       "    </tr>\n",
       "    <tr>\n",
       "      <th>6</th>\n",
       "      <td>LCV</td>\n",
       "      <td>5878.0</td>\n",
       "      <td>4143 42%</td>\n",
       "      <td>31125.0</td>\n",
       "      <td>38095 (18%)</td>\n",
       "    </tr>\n",
       "    <tr>\n",
       "      <th>7</th>\n",
       "      <td>Total Vehicles</td>\n",
       "      <td>12762.0</td>\n",
       "      <td>11168 14%</td>\n",
       "      <td>56657.0</td>\n",
       "      <td>99749 (43%)</td>\n",
       "    </tr>\n",
       "  </tbody>\n",
       "</table>\n",
       "</div>"
      ],
      "text/plain": [
       "         CATEGORY   Dec'20 Dec'19 Inc / (Dec)  Dec'20.1 Dec'19 Inc / (Dec).1\n",
       "2    M&HCV Trucks   6235.0           3958 58%   22690.0          44386 (49%)\n",
       "3       M&HCV Bus    649.0         3067 (79%)    2842.0          17268 (84%)\n",
       "4     Total M&HCV   6884.0          7025 (2%)   25532.0          61654 (59%)\n",
       "6             LCV   5878.0           4143 42%   31125.0          38095 (18%)\n",
       "7  Total Vehicles  12762.0          11168 14%   56657.0          99749 (43%)"
      ]
     },
     "execution_count": 21,
     "metadata": {},
     "output_type": "execute_result"
    }
   ],
   "source": [
    "table[1].dropna()"
   ]
  },
  {
   "cell_type": "code",
   "execution_count": null,
   "metadata": {},
   "outputs": [],
   "source": []
  }
 ],
 "metadata": {
  "kernelspec": {
   "display_name": "Python 3",
   "language": "python",
   "name": "python3"
  },
  "language_info": {
   "codemirror_mode": {
    "name": "ipython",
    "version": 3
   },
   "file_extension": ".py",
   "mimetype": "text/x-python",
   "name": "python",
   "nbconvert_exporter": "python",
   "pygments_lexer": "ipython3",
   "version": "3.7.4"
  }
 },
 "nbformat": 4,
 "nbformat_minor": 2
}
