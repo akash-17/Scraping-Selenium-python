{
 "cells": [
  {
   "cell_type": "markdown",
   "metadata": {
    "ExecuteTime": {
     "end_time": "2021-05-14T06:22:28.234551Z",
     "start_time": "2021-05-14T06:22:18.434534Z"
    }
   },
   "source": [
    "# Problem statement"
   ]
  },
  {
   "cell_type": "markdown",
   "metadata": {},
   "source": [
    "Obtain the values present inside the dashboards and present it as a data Frame/table, (for Domestic Traffic only)\n",
    "\n",
    "URL : https://www.civilaviation.gov.in/\n",
    "\n",
    "Capture all the 7 data points as 7 columns (including Date). Data Frame will contain only one row\n"
   ]
  },
  {
   "cell_type": "markdown",
   "metadata": {},
   "source": [
    "# Importing the libraries"
   ]
  },
  {
   "cell_type": "code",
   "execution_count": 1,
   "metadata": {
    "ExecuteTime": {
     "end_time": "2021-05-14T08:24:09.588205Z",
     "start_time": "2021-05-14T08:24:08.671101Z"
    }
   },
   "outputs": [],
   "source": [
    "from selenium import webdriver\n",
    "from webdriver_manager.chrome import ChromeDriverManager\n",
    "import pandas as pd\n",
    "from selenium.webdriver.support.ui import Select"
   ]
  },
  {
   "cell_type": "markdown",
   "metadata": {},
   "source": [
    "# Using the webdriver for Chrome"
   ]
  },
  {
   "cell_type": "code",
   "execution_count": 2,
   "metadata": {
    "ExecuteTime": {
     "end_time": "2021-05-14T08:24:11.234088Z",
     "start_time": "2021-05-14T08:24:09.588205Z"
    }
   },
   "outputs": [
    {
     "name": "stderr",
     "output_type": "stream",
     "text": [
      "\n",
      "\n",
      "====== WebDriver manager ======\n",
      "Current google-chrome version is 90.0.4430\n",
      "Get LATEST driver version for 90.0.4430\n",
      "Driver [C:\\Users\\91982\\.wdm\\drivers\\chromedriver\\win32\\90.0.4430.24\\chromedriver.exe] found in cache\n"
     ]
    }
   ],
   "source": [
    "driver = webdriver.Chrome(ChromeDriverManager().install())"
   ]
  },
  {
   "cell_type": "markdown",
   "metadata": {},
   "source": [
    "# Navigating to the URL"
   ]
  },
  {
   "cell_type": "code",
   "execution_count": 3,
   "metadata": {
    "ExecuteTime": {
     "end_time": "2021-05-14T08:24:15.966959Z",
     "start_time": "2021-05-14T08:24:11.234088Z"
    }
   },
   "outputs": [],
   "source": [
    "driver.get(\"https://www.civilaviation.gov.in/\")"
   ]
  },
  {
   "cell_type": "markdown",
   "metadata": {},
   "source": [
    "# Getting the date value"
   ]
  },
  {
   "cell_type": "code",
   "execution_count": 4,
   "metadata": {
    "ExecuteTime": {
     "end_time": "2021-05-14T08:24:16.078888Z",
     "start_time": "2021-05-14T08:24:15.966959Z"
    }
   },
   "outputs": [],
   "source": [
    "Date = driver.find_element_by_xpath(\"//*[@id='skipCont']/div[2]/div[3]/h2/span[2]\").text"
   ]
  },
  {
   "cell_type": "code",
   "execution_count": 5,
   "metadata": {
    "ExecuteTime": {
     "end_time": "2021-05-14T08:24:16.094847Z",
     "start_time": "2021-05-14T08:24:16.078888Z"
    }
   },
   "outputs": [
    {
     "name": "stdout",
     "output_type": "stream",
     "text": [
      "On 12 May 2021\n"
     ]
    }
   ],
   "source": [
    "print(Date)"
   ]
  },
  {
   "cell_type": "markdown",
   "metadata": {},
   "source": [
    "# Extracting the date by splitting the value before space"
   ]
  },
  {
   "cell_type": "code",
   "execution_count": 6,
   "metadata": {
    "ExecuteTime": {
     "end_time": "2021-05-14T08:24:16.110839Z",
     "start_time": "2021-05-14T08:24:16.094847Z"
    }
   },
   "outputs": [
    {
     "name": "stdout",
     "output_type": "stream",
     "text": [
      "12 May 2021\n"
     ]
    }
   ],
   "source": [
    "Date = Date.split(None, 1)[1]\n",
    "print(Date)"
   ]
  },
  {
   "cell_type": "markdown",
   "metadata": {},
   "source": [
    "# Getting the Departure flights count"
   ]
  },
  {
   "cell_type": "code",
   "execution_count": 7,
   "metadata": {
    "ExecuteTime": {
     "end_time": "2021-05-14T08:24:16.158807Z",
     "start_time": "2021-05-14T08:24:16.110839Z"
    }
   },
   "outputs": [
    {
     "name": "stdout",
     "output_type": "stream",
     "text": [
      "885\n"
     ]
    }
   ],
   "source": [
    "Departure_flights = driver.find_element_by_xpath(\"//*[@id='skipCont']/div[2]/div[3]/div/ul/li[1]/a/span[2]\").text\n",
    "print(Departure_flights)"
   ]
  },
  {
   "cell_type": "markdown",
   "metadata": {},
   "source": [
    "# Getting the Departing pax count"
   ]
  },
  {
   "cell_type": "code",
   "execution_count": 8,
   "metadata": {
    "ExecuteTime": {
     "end_time": "2021-05-14T08:24:16.206822Z",
     "start_time": "2021-05-14T08:24:16.158807Z"
    }
   },
   "outputs": [
    {
     "name": "stdout",
     "output_type": "stream",
     "text": [
      "60,960\n"
     ]
    }
   ],
   "source": [
    "Departing_pax = driver.find_element_by_xpath(\"//*[@id='skipCont']/div[2]/div[3]/div/ul/li[2]/a/span[2]\").text\n",
    "print(Departing_pax)"
   ]
  },
  {
   "cell_type": "markdown",
   "metadata": {},
   "source": [
    "# Getting the Arrival flights count"
   ]
  },
  {
   "cell_type": "code",
   "execution_count": 9,
   "metadata": {
    "ExecuteTime": {
     "end_time": "2021-05-14T08:24:16.262740Z",
     "start_time": "2021-05-14T08:24:16.206822Z"
    }
   },
   "outputs": [
    {
     "name": "stdout",
     "output_type": "stream",
     "text": [
      "888\n"
     ]
    }
   ],
   "source": [
    "arrival_flights = driver.find_element_by_xpath(\"//*[@id='skipCont']/div[2]/div[3]/div/ul/li[3]/a/span[2]\").text\n",
    "print(arrival_flights)"
   ]
  },
  {
   "cell_type": "markdown",
   "metadata": {},
   "source": [
    "# Getting the Arriving pax count"
   ]
  },
  {
   "cell_type": "code",
   "execution_count": 10,
   "metadata": {
    "ExecuteTime": {
     "end_time": "2021-05-14T08:24:16.326693Z",
     "start_time": "2021-05-14T08:24:16.262740Z"
    }
   },
   "outputs": [
    {
     "name": "stdout",
     "output_type": "stream",
     "text": [
      "62,143\n"
     ]
    }
   ],
   "source": [
    "arriving_pax = driver.find_element_by_xpath(\"//*[@id='skipCont']/div[2]/div[3]/div/ul/li[4]/a/span[2]\").text\n",
    "print(arriving_pax)"
   ]
  },
  {
   "cell_type": "markdown",
   "metadata": {},
   "source": [
    "# Getting the Aircrafts movement count"
   ]
  },
  {
   "cell_type": "code",
   "execution_count": 11,
   "metadata": {
    "ExecuteTime": {
     "end_time": "2021-05-14T08:24:16.374663Z",
     "start_time": "2021-05-14T08:24:16.326693Z"
    }
   },
   "outputs": [
    {
     "name": "stdout",
     "output_type": "stream",
     "text": [
      "1,773\n"
     ]
    }
   ],
   "source": [
    "aircraft_movements = driver.find_element_by_xpath(\"//*[@id='skipCont']/div[2]/div[3]/div/ul/li[5]/a/span[2]\").text\n",
    "print(aircraft_movements)"
   ]
  },
  {
   "cell_type": "markdown",
   "metadata": {},
   "source": [
    "# Getting the Aircraft footfalls count"
   ]
  },
  {
   "cell_type": "code",
   "execution_count": 12,
   "metadata": {
    "ExecuteTime": {
     "end_time": "2021-05-14T08:24:16.422631Z",
     "start_time": "2021-05-14T08:24:16.374663Z"
    }
   },
   "outputs": [
    {
     "name": "stdout",
     "output_type": "stream",
     "text": [
      "123,103\n"
     ]
    }
   ],
   "source": [
    "aircraft_footfalls = driver.find_element_by_xpath(\"//*[@id='skipCont']/div[2]/div[3]/div/ul/li[6]/a/span[2]\").text\n",
    "print(aircraft_footfalls)"
   ]
  },
  {
   "cell_type": "markdown",
   "metadata": {},
   "source": [
    "# Creating a dataframe to store all the values"
   ]
  },
  {
   "cell_type": "code",
   "execution_count": 13,
   "metadata": {
    "ExecuteTime": {
     "end_time": "2021-05-14T08:24:16.430625Z",
     "start_time": "2021-05-14T08:24:16.422631Z"
    }
   },
   "outputs": [],
   "source": [
    "Civil_Aviation=[{'Date':Date,'Departure flights':Departure_flights,'Departing pax':Departing_pax,'Arrival flights':arrival_flights,'Arriving pax':arriving_pax,'Aircraft movements':aircraft_movements,'Airport footfalls':aircraft_footfalls}]"
   ]
  },
  {
   "cell_type": "markdown",
   "metadata": {},
   "source": [
    "# Final Output "
   ]
  },
  {
   "cell_type": "code",
   "execution_count": 14,
   "metadata": {
    "ExecuteTime": {
     "end_time": "2021-05-14T08:24:16.486587Z",
     "start_time": "2021-05-14T08:24:16.430625Z"
    }
   },
   "outputs": [
    {
     "data": {
      "text/html": [
       "<div>\n",
       "<style scoped>\n",
       "    .dataframe tbody tr th:only-of-type {\n",
       "        vertical-align: middle;\n",
       "    }\n",
       "\n",
       "    .dataframe tbody tr th {\n",
       "        vertical-align: top;\n",
       "    }\n",
       "\n",
       "    .dataframe thead th {\n",
       "        text-align: right;\n",
       "    }\n",
       "</style>\n",
       "<table border=\"1\" class=\"dataframe\">\n",
       "  <thead>\n",
       "    <tr style=\"text-align: right;\">\n",
       "      <th></th>\n",
       "      <th>Date</th>\n",
       "      <th>Departure flights</th>\n",
       "      <th>Departing pax</th>\n",
       "      <th>Arrival flights</th>\n",
       "      <th>Arriving pax</th>\n",
       "      <th>Aircraft movements</th>\n",
       "      <th>Airport footfalls</th>\n",
       "    </tr>\n",
       "  </thead>\n",
       "  <tbody>\n",
       "    <tr>\n",
       "      <th>0</th>\n",
       "      <td>12 May 2021</td>\n",
       "      <td>885</td>\n",
       "      <td>60,960</td>\n",
       "      <td>888</td>\n",
       "      <td>62,143</td>\n",
       "      <td>1,773</td>\n",
       "      <td>123,103</td>\n",
       "    </tr>\n",
       "  </tbody>\n",
       "</table>\n",
       "</div>"
      ],
      "text/plain": [
       "          Date Departure flights Departing pax Arrival flights Arriving pax  \\\n",
       "0  12 May 2021               885        60,960             888       62,143   \n",
       "\n",
       "  Aircraft movements Airport footfalls  \n",
       "0              1,773           123,103  "
      ]
     },
     "execution_count": 14,
     "metadata": {},
     "output_type": "execute_result"
    }
   ],
   "source": [
    "table_civil = pd.DataFrame(Civil_Aviation)\n",
    "table_civil"
   ]
  }
 ],
 "metadata": {
  "kernelspec": {
   "display_name": "Python 3",
   "language": "python",
   "name": "python3"
  },
  "language_info": {
   "codemirror_mode": {
    "name": "ipython",
    "version": 3
   },
   "file_extension": ".py",
   "mimetype": "text/x-python",
   "name": "python",
   "nbconvert_exporter": "python",
   "pygments_lexer": "ipython3",
   "version": "3.7.4"
  }
 },
 "nbformat": 4,
 "nbformat_minor": 2
}
