{
 "cells": [
  {
   "cell_type": "markdown",
   "metadata": {
    "ExecuteTime": {
     "end_time": "2021-05-09T12:25:21.799851Z",
     "start_time": "2021-05-09T12:25:20.122958Z"
    }
   },
   "source": [
    "# Problem statement"
   ]
  },
  {
   "cell_type": "markdown",
   "metadata": {},
   "source": [
    "Get the Client Funding Report from dropdown for the date “27th July 2016” and save it as a data frame\n",
    "\n",
    "URL : https://www1.nseindia.com/products/content/equities/equities/archieve_eq.htm\n"
   ]
  },
  {
   "cell_type": "markdown",
   "metadata": {},
   "source": [
    "# Importing the libraries"
   ]
  },
  {
   "cell_type": "code",
   "execution_count": 6,
   "metadata": {
    "ExecuteTime": {
     "end_time": "2021-05-15T04:38:17.149594Z",
     "start_time": "2021-05-15T04:38:17.133630Z"
    }
   },
   "outputs": [],
   "source": [
    "from selenium import webdriver\n",
    "from webdriver_manager.chrome import ChromeDriverManager\n",
    "from selenium.webdriver.support.ui import Select\n",
    "import time\n",
    "import os\n",
    "import shutil\n",
    "from selenium.webdriver.chrome.options import Options\n",
    "from selenium.webdriver.common.keys import Keys\n",
    "import pandas as pd"
   ]
  },
  {
   "cell_type": "markdown",
   "metadata": {},
   "source": [
    "# Setting chrome options to download pdf without clicking"
   ]
  },
  {
   "cell_type": "code",
   "execution_count": 22,
   "metadata": {
    "ExecuteTime": {
     "end_time": "2021-05-15T04:45:09.021685Z",
     "start_time": "2021-05-15T04:45:05.695866Z"
    }
   },
   "outputs": [],
   "source": [
    "chrome_options = Options()\n",
    "chrome_options.add_experimental_option('prefs',  {\n",
    "    \"download.default_directory\": 'C:\\\\Users\\\\akash\\\\Downloads',\n",
    "    \"download.prompt_for_download\": False,\n",
    "    \"download.directory_upgrade\": True,\n",
    "    \"plugins.always_open_pdf_externally\": True\n",
    "    }\n",
    ")\n",
    "\n",
    "driver = webdriver.Chrome(options=chrome_options)"
   ]
  },
  {
   "cell_type": "markdown",
   "metadata": {},
   "source": [
    "# Navigating the URL"
   ]
  },
  {
   "cell_type": "code",
   "execution_count": 23,
   "metadata": {
    "ExecuteTime": {
     "end_time": "2021-05-15T04:45:11.743558Z",
     "start_time": "2021-05-15T04:45:11.032033Z"
    }
   },
   "outputs": [],
   "source": [
    "driver.get(\"https://www1.nseindia.com/products/content/equities/equities/archieve_eq.htm\")"
   ]
  },
  {
   "cell_type": "markdown",
   "metadata": {},
   "source": [
    "## Changing the Report type to Client Funding"
   ]
  },
  {
   "cell_type": "code",
   "execution_count": 24,
   "metadata": {
    "ExecuteTime": {
     "end_time": "2021-05-15T04:45:16.600798Z",
     "start_time": "2021-05-15T04:45:16.511831Z"
    }
   },
   "outputs": [],
   "source": [
    "select_report_type = Select(driver.find_element_by_id('h_filetype'))\n",
    "select_report_type.select_by_visible_text('Client Funding')"
   ]
  },
  {
   "cell_type": "markdown",
   "metadata": {},
   "source": [
    "## Setting the Date value as “27th July 2016”"
   ]
  },
  {
   "cell_type": "code",
   "execution_count": 25,
   "metadata": {
    "ExecuteTime": {
     "end_time": "2021-05-15T04:45:19.876319Z",
     "start_time": "2021-05-15T04:45:19.674031Z"
    }
   },
   "outputs": [],
   "source": [
    "date_value = driver.find_element_by_xpath(\"//input[@class='textboxdata hasDatepicker' and @id='date']\").send_keys(\"27-07-2016\")\n"
   ]
  },
  {
   "cell_type": "code",
   "execution_count": 26,
   "metadata": {
    "ExecuteTime": {
     "end_time": "2021-05-15T04:45:39.680512Z",
     "start_time": "2021-05-15T04:45:39.624551Z"
    }
   },
   "outputs": [],
   "source": [
    "clk = driver.find_element_by_xpath(\"//*[@id='ui-datepicker-div']/table/tbody/tr[5]/td[4]/a\")\n",
    "clk.click()"
   ]
  },
  {
   "cell_type": "markdown",
   "metadata": {},
   "source": [
    "## Clicking on Get Data button"
   ]
  },
  {
   "cell_type": "code",
   "execution_count": 27,
   "metadata": {
    "ExecuteTime": {
     "end_time": "2021-05-15T04:46:27.287344Z",
     "start_time": "2021-05-15T04:46:22.221285Z"
    }
   },
   "outputs": [],
   "source": [
    "time.sleep(5)\n",
    "get_data = driver.find_element_by_xpath(\"//*[@id='wrapper_btm']/div[1]/div[4]/div/div[1]/div/div[4]/input[3]\").click()"
   ]
  },
  {
   "cell_type": "code",
   "execution_count": 29,
   "metadata": {
    "ExecuteTime": {
     "end_time": "2021-05-15T04:50:29.394439Z",
     "start_time": "2021-05-15T04:50:24.352062Z"
    }
   },
   "outputs": [
    {
     "data": {
      "text/plain": [
       "'C:\\\\Users\\\\91982\\\\Downloads\\\\NSE_Report.csv'"
      ]
     },
     "execution_count": 29,
     "metadata": {},
     "output_type": "execute_result"
    }
   ],
   "source": [
    "time.sleep(5)\n",
    "filename = max(['C:\\\\Users\\\\91982\\\\Downloads' + \"\\\\\" + f for f in os.listdir('C:\\\\Users\\\\akash\\\\Downloads')],key=os.path.getctime)\n",
    "shutil.move(filename,os.path.join('C:\\\\Users\\\\akash\\\\Downloads',r\"NSE_Report.csv\"))"
   ]
  },
  {
   "cell_type": "markdown",
   "metadata": {},
   "source": [
    "## Reading csv file using pandas"
   ]
  },
  {
   "cell_type": "code",
   "execution_count": 33,
   "metadata": {
    "ExecuteTime": {
     "end_time": "2021-05-15T04:52:20.025126Z",
     "start_time": "2021-05-15T04:52:20.009167Z"
    }
   },
   "outputs": [],
   "source": [
    "nse = pd.read_csv(\"NSE_Report.csv\",skiprows=2)"
   ]
  },
  {
   "cell_type": "code",
   "execution_count": 35,
   "metadata": {
    "ExecuteTime": {
     "end_time": "2021-05-15T04:53:45.374137Z",
     "start_time": "2021-05-15T04:53:45.334128Z"
    }
   },
   "outputs": [
    {
     "data": {
      "text/html": [
       "<div>\n",
       "<style scoped>\n",
       "    .dataframe tbody tr th:only-of-type {\n",
       "        vertical-align: middle;\n",
       "    }\n",
       "\n",
       "    .dataframe tbody tr th {\n",
       "        vertical-align: top;\n",
       "    }\n",
       "\n",
       "    .dataframe thead th {\n",
       "        text-align: right;\n",
       "    }\n",
       "</style>\n",
       "<table border=\"1\" class=\"dataframe\">\n",
       "  <thead>\n",
       "    <tr style=\"text-align: right;\">\n",
       "      <th></th>\n",
       "      <th>Serial No</th>\n",
       "      <th>Member Code</th>\n",
       "      <th>Member Name</th>\n",
       "      <th>Month</th>\n",
       "      <th>Year</th>\n",
       "      <th>Amount Funded For Temporary Margin</th>\n",
       "      <th>Amount Funded For Institutional Clients</th>\n",
       "      <th>Amount Funded For Non-Institutional Clients</th>\n",
       "      <th>Amount Funded Under Margin Trading</th>\n",
       "      <th>Total Amount Funded</th>\n",
       "      <th>Total No Of Clients Funded</th>\n",
       "    </tr>\n",
       "  </thead>\n",
       "  <tbody>\n",
       "    <tr>\n",
       "      <th>0</th>\n",
       "      <td>NaN</td>\n",
       "      <td>NaN</td>\n",
       "      <td>NaN</td>\n",
       "      <td>NaN</td>\n",
       "      <td>NaN</td>\n",
       "      <td>NaN</td>\n",
       "      <td>NaN</td>\n",
       "      <td>NaN</td>\n",
       "      <td>NaN</td>\n",
       "      <td>NaN</td>\n",
       "      <td>NaN</td>\n",
       "    </tr>\n",
       "    <tr>\n",
       "      <th>1</th>\n",
       "      <td>1</td>\n",
       "      <td>11297.0</td>\n",
       "      <td>SWASTIKA INVESTMART LIMITED</td>\n",
       "      <td>JUL</td>\n",
       "      <td>2016.0</td>\n",
       "      <td>0.00</td>\n",
       "      <td>0.0</td>\n",
       "      <td>219.96</td>\n",
       "      <td>0.0</td>\n",
       "      <td>219.96</td>\n",
       "      <td>157.0</td>\n",
       "    </tr>\n",
       "    <tr>\n",
       "      <th>2</th>\n",
       "      <td>2</td>\n",
       "      <td>13459.0</td>\n",
       "      <td>O3 SECURITIES PRIVATE LIMITED</td>\n",
       "      <td>JUL</td>\n",
       "      <td>2016.0</td>\n",
       "      <td>6.50</td>\n",
       "      <td>0.0</td>\n",
       "      <td>2.90</td>\n",
       "      <td>0.0</td>\n",
       "      <td>9.40</td>\n",
       "      <td>6.0</td>\n",
       "    </tr>\n",
       "    <tr>\n",
       "      <th>3</th>\n",
       "      <td>3</td>\n",
       "      <td>14300.0</td>\n",
       "      <td>5PAISA CAPITAL LIMITED</td>\n",
       "      <td>JUL</td>\n",
       "      <td>2016.0</td>\n",
       "      <td>601.35</td>\n",
       "      <td>0.0</td>\n",
       "      <td>1.81</td>\n",
       "      <td>0.0</td>\n",
       "      <td>603.16</td>\n",
       "      <td>16.0</td>\n",
       "    </tr>\n",
       "    <tr>\n",
       "      <th>4</th>\n",
       "      <td>4</td>\n",
       "      <td>8232.0</td>\n",
       "      <td>JHAVERI SECURITIES LIMITED</td>\n",
       "      <td>JUL</td>\n",
       "      <td>2016.0</td>\n",
       "      <td>0.00</td>\n",
       "      <td>0.0</td>\n",
       "      <td>376.86</td>\n",
       "      <td>0.0</td>\n",
       "      <td>376.86</td>\n",
       "      <td>209.0</td>\n",
       "    </tr>\n",
       "  </tbody>\n",
       "</table>\n",
       "</div>"
      ],
      "text/plain": [
       "  Serial No  Member Code                    Member Name Month    Year  \\\n",
       "0       NaN          NaN                            NaN   NaN     NaN   \n",
       "1         1      11297.0    SWASTIKA INVESTMART LIMITED   JUL  2016.0   \n",
       "2         2      13459.0  O3 SECURITIES PRIVATE LIMITED   JUL  2016.0   \n",
       "3         3      14300.0         5PAISA CAPITAL LIMITED   JUL  2016.0   \n",
       "4         4       8232.0     JHAVERI SECURITIES LIMITED   JUL  2016.0   \n",
       "\n",
       "   Amount Funded For Temporary Margin  \\\n",
       "0                                 NaN   \n",
       "1                                0.00   \n",
       "2                                6.50   \n",
       "3                              601.35   \n",
       "4                                0.00   \n",
       "\n",
       "   Amount Funded For Institutional Clients  \\\n",
       "0                                      NaN   \n",
       "1                                      0.0   \n",
       "2                                      0.0   \n",
       "3                                      0.0   \n",
       "4                                      0.0   \n",
       "\n",
       "   Amount Funded For Non-Institutional Clients  \\\n",
       "0                                          NaN   \n",
       "1                                       219.96   \n",
       "2                                         2.90   \n",
       "3                                         1.81   \n",
       "4                                       376.86   \n",
       "\n",
       "   Amount Funded Under Margin Trading  Total Amount Funded  \\\n",
       "0                                 NaN                  NaN   \n",
       "1                                 0.0               219.96   \n",
       "2                                 0.0                 9.40   \n",
       "3                                 0.0               603.16   \n",
       "4                                 0.0               376.86   \n",
       "\n",
       "   Total No Of Clients Funded  \n",
       "0                         NaN  \n",
       "1                       157.0  \n",
       "2                         6.0  \n",
       "3                        16.0  \n",
       "4                       209.0  "
      ]
     },
     "execution_count": 35,
     "metadata": {},
     "output_type": "execute_result"
    }
   ],
   "source": [
    "nse.head()"
   ]
  },
  {
   "cell_type": "code",
   "execution_count": 41,
   "metadata": {
    "ExecuteTime": {
     "end_time": "2021-05-15T05:00:06.098656Z",
     "start_time": "2021-05-15T05:00:06.066998Z"
    }
   },
   "outputs": [
    {
     "data": {
      "text/html": [
       "<div>\n",
       "<style scoped>\n",
       "    .dataframe tbody tr th:only-of-type {\n",
       "        vertical-align: middle;\n",
       "    }\n",
       "\n",
       "    .dataframe tbody tr th {\n",
       "        vertical-align: top;\n",
       "    }\n",
       "\n",
       "    .dataframe thead th {\n",
       "        text-align: right;\n",
       "    }\n",
       "</style>\n",
       "<table border=\"1\" class=\"dataframe\">\n",
       "  <thead>\n",
       "    <tr style=\"text-align: right;\">\n",
       "      <th></th>\n",
       "      <th>Serial No</th>\n",
       "      <th>Member Code</th>\n",
       "      <th>Member Name</th>\n",
       "      <th>Month</th>\n",
       "      <th>Year</th>\n",
       "      <th>Amount Funded For Temporary Margin</th>\n",
       "      <th>Amount Funded For Institutional Clients</th>\n",
       "      <th>Amount Funded For Non-Institutional Clients</th>\n",
       "      <th>Amount Funded Under Margin Trading</th>\n",
       "      <th>Total Amount Funded</th>\n",
       "      <th>Total No Of Clients Funded</th>\n",
       "    </tr>\n",
       "  </thead>\n",
       "  <tbody>\n",
       "    <tr>\n",
       "      <th>1</th>\n",
       "      <td>1</td>\n",
       "      <td>11297.0</td>\n",
       "      <td>SWASTIKA INVESTMART LIMITED</td>\n",
       "      <td>JUL</td>\n",
       "      <td>2016.0</td>\n",
       "      <td>0.00</td>\n",
       "      <td>0.0</td>\n",
       "      <td>219.96</td>\n",
       "      <td>0.0</td>\n",
       "      <td>219.96</td>\n",
       "      <td>157.0</td>\n",
       "    </tr>\n",
       "    <tr>\n",
       "      <th>2</th>\n",
       "      <td>2</td>\n",
       "      <td>13459.0</td>\n",
       "      <td>O3 SECURITIES PRIVATE LIMITED</td>\n",
       "      <td>JUL</td>\n",
       "      <td>2016.0</td>\n",
       "      <td>6.50</td>\n",
       "      <td>0.0</td>\n",
       "      <td>2.90</td>\n",
       "      <td>0.0</td>\n",
       "      <td>9.40</td>\n",
       "      <td>6.0</td>\n",
       "    </tr>\n",
       "    <tr>\n",
       "      <th>3</th>\n",
       "      <td>3</td>\n",
       "      <td>14300.0</td>\n",
       "      <td>5PAISA CAPITAL LIMITED</td>\n",
       "      <td>JUL</td>\n",
       "      <td>2016.0</td>\n",
       "      <td>601.35</td>\n",
       "      <td>0.0</td>\n",
       "      <td>1.81</td>\n",
       "      <td>0.0</td>\n",
       "      <td>603.16</td>\n",
       "      <td>16.0</td>\n",
       "    </tr>\n",
       "    <tr>\n",
       "      <th>4</th>\n",
       "      <td>4</td>\n",
       "      <td>8232.0</td>\n",
       "      <td>JHAVERI SECURITIES LIMITED</td>\n",
       "      <td>JUL</td>\n",
       "      <td>2016.0</td>\n",
       "      <td>0.00</td>\n",
       "      <td>0.0</td>\n",
       "      <td>376.86</td>\n",
       "      <td>0.0</td>\n",
       "      <td>376.86</td>\n",
       "      <td>209.0</td>\n",
       "    </tr>\n",
       "    <tr>\n",
       "      <th>5</th>\n",
       "      <td>5</td>\n",
       "      <td>13232.0</td>\n",
       "      <td>DBFS SECURITIES LIMITED</td>\n",
       "      <td>JUL</td>\n",
       "      <td>2016.0</td>\n",
       "      <td>1136.00</td>\n",
       "      <td>0.0</td>\n",
       "      <td>0.00</td>\n",
       "      <td>0.0</td>\n",
       "      <td>1136.00</td>\n",
       "      <td>891.0</td>\n",
       "    </tr>\n",
       "  </tbody>\n",
       "</table>\n",
       "</div>"
      ],
      "text/plain": [
       "  Serial No  Member Code                    Member Name Month    Year  \\\n",
       "1         1      11297.0    SWASTIKA INVESTMART LIMITED   JUL  2016.0   \n",
       "2         2      13459.0  O3 SECURITIES PRIVATE LIMITED   JUL  2016.0   \n",
       "3         3      14300.0         5PAISA CAPITAL LIMITED   JUL  2016.0   \n",
       "4         4       8232.0     JHAVERI SECURITIES LIMITED   JUL  2016.0   \n",
       "5         5      13232.0        DBFS SECURITIES LIMITED   JUL  2016.0   \n",
       "\n",
       "   Amount Funded For Temporary Margin  \\\n",
       "1                                0.00   \n",
       "2                                6.50   \n",
       "3                              601.35   \n",
       "4                                0.00   \n",
       "5                             1136.00   \n",
       "\n",
       "   Amount Funded For Institutional Clients  \\\n",
       "1                                      0.0   \n",
       "2                                      0.0   \n",
       "3                                      0.0   \n",
       "4                                      0.0   \n",
       "5                                      0.0   \n",
       "\n",
       "   Amount Funded For Non-Institutional Clients  \\\n",
       "1                                       219.96   \n",
       "2                                         2.90   \n",
       "3                                         1.81   \n",
       "4                                       376.86   \n",
       "5                                         0.00   \n",
       "\n",
       "   Amount Funded Under Margin Trading  Total Amount Funded  \\\n",
       "1                                 0.0               219.96   \n",
       "2                                 0.0                 9.40   \n",
       "3                                 0.0               603.16   \n",
       "4                                 0.0               376.86   \n",
       "5                                 0.0              1136.00   \n",
       "\n",
       "   Total No Of Clients Funded  \n",
       "1                       157.0  \n",
       "2                         6.0  \n",
       "3                        16.0  \n",
       "4                       209.0  \n",
       "5                       891.0  "
      ]
     },
     "execution_count": 41,
     "metadata": {},
     "output_type": "execute_result"
    }
   ],
   "source": [
    "nse.drop(index=nse.index[0],axis=0,inplace=True)\n",
    "nse.head()"
   ]
  },
  {
   "cell_type": "markdown",
   "metadata": {},
   "source": [
    "# Final Output"
   ]
  },
  {
   "cell_type": "code",
   "execution_count": 42,
   "metadata": {
    "ExecuteTime": {
     "end_time": "2021-05-15T05:00:29.081507Z",
     "start_time": "2021-05-15T05:00:29.057492Z"
    }
   },
   "outputs": [
    {
     "data": {
      "text/html": [
       "<div>\n",
       "<style scoped>\n",
       "    .dataframe tbody tr th:only-of-type {\n",
       "        vertical-align: middle;\n",
       "    }\n",
       "\n",
       "    .dataframe tbody tr th {\n",
       "        vertical-align: top;\n",
       "    }\n",
       "\n",
       "    .dataframe thead th {\n",
       "        text-align: right;\n",
       "    }\n",
       "</style>\n",
       "<table border=\"1\" class=\"dataframe\">\n",
       "  <thead>\n",
       "    <tr style=\"text-align: right;\">\n",
       "      <th></th>\n",
       "      <th>Serial No</th>\n",
       "      <th>Member Code</th>\n",
       "      <th>Member Name</th>\n",
       "      <th>Month</th>\n",
       "      <th>Year</th>\n",
       "      <th>Amount Funded For Temporary Margin</th>\n",
       "      <th>Amount Funded For Institutional Clients</th>\n",
       "      <th>Amount Funded For Non-Institutional Clients</th>\n",
       "      <th>Amount Funded Under Margin Trading</th>\n",
       "      <th>Total Amount Funded</th>\n",
       "      <th>Total No Of Clients Funded</th>\n",
       "    </tr>\n",
       "  </thead>\n",
       "  <tbody>\n",
       "    <tr>\n",
       "      <th>1</th>\n",
       "      <td>1</td>\n",
       "      <td>11297.0</td>\n",
       "      <td>SWASTIKA INVESTMART LIMITED</td>\n",
       "      <td>JUL</td>\n",
       "      <td>2016.0</td>\n",
       "      <td>0.00</td>\n",
       "      <td>0.0</td>\n",
       "      <td>219.96</td>\n",
       "      <td>0.0</td>\n",
       "      <td>219.96</td>\n",
       "      <td>157.0</td>\n",
       "    </tr>\n",
       "    <tr>\n",
       "      <th>2</th>\n",
       "      <td>2</td>\n",
       "      <td>13459.0</td>\n",
       "      <td>O3 SECURITIES PRIVATE LIMITED</td>\n",
       "      <td>JUL</td>\n",
       "      <td>2016.0</td>\n",
       "      <td>6.50</td>\n",
       "      <td>0.0</td>\n",
       "      <td>2.90</td>\n",
       "      <td>0.0</td>\n",
       "      <td>9.40</td>\n",
       "      <td>6.0</td>\n",
       "    </tr>\n",
       "    <tr>\n",
       "      <th>3</th>\n",
       "      <td>3</td>\n",
       "      <td>14300.0</td>\n",
       "      <td>5PAISA CAPITAL LIMITED</td>\n",
       "      <td>JUL</td>\n",
       "      <td>2016.0</td>\n",
       "      <td>601.35</td>\n",
       "      <td>0.0</td>\n",
       "      <td>1.81</td>\n",
       "      <td>0.0</td>\n",
       "      <td>603.16</td>\n",
       "      <td>16.0</td>\n",
       "    </tr>\n",
       "    <tr>\n",
       "      <th>4</th>\n",
       "      <td>4</td>\n",
       "      <td>8232.0</td>\n",
       "      <td>JHAVERI SECURITIES LIMITED</td>\n",
       "      <td>JUL</td>\n",
       "      <td>2016.0</td>\n",
       "      <td>0.00</td>\n",
       "      <td>0.0</td>\n",
       "      <td>376.86</td>\n",
       "      <td>0.0</td>\n",
       "      <td>376.86</td>\n",
       "      <td>209.0</td>\n",
       "    </tr>\n",
       "    <tr>\n",
       "      <th>5</th>\n",
       "      <td>5</td>\n",
       "      <td>13232.0</td>\n",
       "      <td>DBFS SECURITIES LIMITED</td>\n",
       "      <td>JUL</td>\n",
       "      <td>2016.0</td>\n",
       "      <td>1136.00</td>\n",
       "      <td>0.0</td>\n",
       "      <td>0.00</td>\n",
       "      <td>0.0</td>\n",
       "      <td>1136.00</td>\n",
       "      <td>891.0</td>\n",
       "    </tr>\n",
       "  </tbody>\n",
       "</table>\n",
       "</div>"
      ],
      "text/plain": [
       "  Serial No  Member Code                    Member Name Month    Year  \\\n",
       "1         1      11297.0    SWASTIKA INVESTMART LIMITED   JUL  2016.0   \n",
       "2         2      13459.0  O3 SECURITIES PRIVATE LIMITED   JUL  2016.0   \n",
       "3         3      14300.0         5PAISA CAPITAL LIMITED   JUL  2016.0   \n",
       "4         4       8232.0     JHAVERI SECURITIES LIMITED   JUL  2016.0   \n",
       "5         5      13232.0        DBFS SECURITIES LIMITED   JUL  2016.0   \n",
       "\n",
       "   Amount Funded For Temporary Margin  \\\n",
       "1                                0.00   \n",
       "2                                6.50   \n",
       "3                              601.35   \n",
       "4                                0.00   \n",
       "5                             1136.00   \n",
       "\n",
       "   Amount Funded For Institutional Clients  \\\n",
       "1                                      0.0   \n",
       "2                                      0.0   \n",
       "3                                      0.0   \n",
       "4                                      0.0   \n",
       "5                                      0.0   \n",
       "\n",
       "   Amount Funded For Non-Institutional Clients  \\\n",
       "1                                       219.96   \n",
       "2                                         2.90   \n",
       "3                                         1.81   \n",
       "4                                       376.86   \n",
       "5                                         0.00   \n",
       "\n",
       "   Amount Funded Under Margin Trading  Total Amount Funded  \\\n",
       "1                                 0.0               219.96   \n",
       "2                                 0.0                 9.40   \n",
       "3                                 0.0               603.16   \n",
       "4                                 0.0               376.86   \n",
       "5                                 0.0              1136.00   \n",
       "\n",
       "   Total No Of Clients Funded  \n",
       "1                       157.0  \n",
       "2                         6.0  \n",
       "3                        16.0  \n",
       "4                       209.0  \n",
       "5                       891.0  "
      ]
     },
     "execution_count": 42,
     "metadata": {},
     "output_type": "execute_result"
    }
   ],
   "source": [
    "nse.head()"
   ]
  },
  {
   "cell_type": "code",
   "execution_count": null,
   "metadata": {},
   "outputs": [],
   "source": []
  }
 ],
 "metadata": {
  "kernelspec": {
   "display_name": "Python 3",
   "language": "python",
   "name": "python3"
  },
  "language_info": {
   "codemirror_mode": {
    "name": "ipython",
    "version": 3
   },
   "file_extension": ".py",
   "mimetype": "text/x-python",
   "name": "python",
   "nbconvert_exporter": "python",
   "pygments_lexer": "ipython3",
   "version": "3.7.4"
  }
 },
 "nbformat": 4,
 "nbformat_minor": 2
}
